{
 "cells": [
  {
   "cell_type": "code",
   "execution_count": null,
   "metadata": {},
   "outputs": [],
   "source": [
    "import numpy as np"
   ]
  },
  {
   "cell_type": "code",
   "execution_count": null,
   "metadata": {},
   "outputs": [],
   "source": [
    "def load_result(alg,lr,dataset):\n",
    "    lr = '%.2e'%lr\n",
    "    load_path = 'results/'+dataset+'/'+alg+'_'+lr+'/test_ll_rmse.txt'\n",
    "    res = np.genfromtxt(load_path,delimiter=',')\n",
    "    rmse = res[:,3]\n",
    "    test_ll = res[:,4]\n",
    "    return np.mean(rmse), np.var(rmse), np.mean(test_ll), np.var(test_ll)"
   ]
  },
  {
   "cell_type": "code",
   "execution_count": null,
   "metadata": {},
   "outputs": [],
   "source": [
    "def print_result(aig_lr,wgf_lr,svgd_lr,dataset):\n",
    "    print('%s'%dataset)\n",
    "    rmse_m, rmse_var, ll_m, ll_var = load_result('aig',aig_lr,dataset)\n",
    "    print('%s : %.3f (%.2e) %.3f (%.2e)'%('AIG',rmse_m, rmse_var, ll_m, ll_var))\n",
    "    rmse_m, rmse_var, ll_m, ll_var = load_result('wgf',wgf_lr,dataset)\n",
    "    print('%s : %.3f (%.2e) %.3f (%.2e)'%('WGF',rmse_m, rmse_var, ll_m, ll_var))\n",
    "    rmse_m, rmse_var, ll_m, ll_var = load_result('svgd',svgd_lr,dataset)\n",
    "    print('%s : %.3f (%.2e) %.3f (%.2e)'%('SVGD',rmse_m, rmse_var, ll_m, ll_var))"
   ]
  },
  {
   "cell_type": "code",
   "execution_count": null,
   "metadata": {},
   "outputs": [],
   "source": [
    "# Boston\n",
    "print_result(2e-5,1e-4,5e-4,'Boston')"
   ]
  },
  {
   "cell_type": "code",
   "execution_count": null,
   "metadata": {},
   "outputs": [],
   "source": [
    "# Combined\n",
    "print_result(2e-5,2e-5,5e-4,'Combined')"
   ]
  },
  {
   "cell_type": "code",
   "execution_count": null,
   "metadata": {},
   "outputs": [],
   "source": [
    "# Concrete\n",
    "print_result(2e-4,1e-3,5e-3,'Concrete')"
   ]
  },
  {
   "cell_type": "code",
   "execution_count": null,
   "metadata": {},
   "outputs": [],
   "source": [
    "# Kin8nm\n",
    "print_result(2e-5,1e-4,5e-3,'Kin8nm')"
   ]
  },
  {
   "cell_type": "code",
   "execution_count": null,
   "metadata": {},
   "outputs": [],
   "source": [
    "# Wine\n",
    "print_result(5e-6,1e-4,2e-3,'Wine')"
   ]
  },
  {
   "cell_type": "code",
   "execution_count": null,
   "metadata": {},
   "outputs": [],
   "source": [
    "# Year\n",
    "print_result(2e-7,1e-6,5e-3,'Year')"
   ]
  },
  {
   "cell_type": "code",
   "execution_count": null,
   "metadata": {},
   "outputs": [],
   "source": []
  }
 ],
 "metadata": {
  "kernelspec": {
   "display_name": "Python 2",
   "language": "python",
   "name": "python2"
  },
  "language_info": {
   "codemirror_mode": {
    "name": "ipython",
    "version": 2
   },
   "file_extension": ".py",
   "mimetype": "text/x-python",
   "name": "python",
   "nbconvert_exporter": "python",
   "pygments_lexer": "ipython2",
   "version": "2.7.15"
  }
 },
 "nbformat": 4,
 "nbformat_minor": 2
}
